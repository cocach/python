{
 "cells": [
  {
   "cell_type": "code",
   "execution_count": 1,
   "metadata": {},
   "outputs": [],
   "source": [
    "def PatternCount(Pattern, Text):\n",
    "    import re\n",
    "    return len(re.findall('(?='+Pattern+')', Text))\n",
    "\n",
    "def FrequencyMap(Text, k):\n",
    "    freq = {}\n",
    "    n = len(Text)\n",
    "    for i in range(n-k+1):\n",
    "        Pattern = Text[i:i+k]\n",
    "        freq[Pattern] = 0\n",
    "    for i in range(n-k+1):\n",
    "        Pattern = Text[i:i+k]\n",
    "        if Pattern in freq:\n",
    "            freq[Pattern] += 1\n",
    "    return freq\n",
    "\n",
    "def FrequentWords(Text, k):\n",
    "    words = []\n",
    "    freq = FrequencyMap(Text, k)\n",
    "    m = max(freq.values())\n",
    "    for key in freq:\n",
    "        if m == freq[key]:\n",
    "            words.append(key)\n",
    "    return words\n",
    "\n",
    "def Reverse(Pattern):\n",
    "    return Pattern[::-1]\n",
    "\n",
    "def Complement(Pattern):\n",
    "    complement = {'A':'T', 'C':'G', 'G':'C', 'T':'A'}\n",
    "    return ''.join([complement[base] for base in Pattern])\n",
    "\n",
    "def ReverseComplement(Pattern):\n",
    "    complement = {'A':'T', 'C':'G', 'G':'C', 'T':'A'}\n",
    "    return \"\".join(complement[i] for i in Pattern[::-1])\n",
    "\n",
    "def PatternMatching(Pattern, Genome):\n",
    "    return [i  for i in range(len(Genome) - len(Pattern) + 1) if Genome[i:i + len(Pattern)] == Pattern]\n",
    "\n"
   ]
  },
  {
   "cell_type": "code",
   "execution_count": null,
   "metadata": {},
   "outputs": [],
   "source": []
  }
 ],
 "metadata": {
  "kernelspec": {
   "display_name": "Python 3",
   "language": "python",
   "name": "python3"
  },
  "language_info": {
   "codemirror_mode": {
    "name": "ipython",
    "version": 3
   },
   "file_extension": ".py",
   "mimetype": "text/x-python",
   "name": "python",
   "nbconvert_exporter": "python",
   "pygments_lexer": "ipython3",
   "version": "3.6.5"
  }
 },
 "nbformat": 4,
 "nbformat_minor": 2
}
