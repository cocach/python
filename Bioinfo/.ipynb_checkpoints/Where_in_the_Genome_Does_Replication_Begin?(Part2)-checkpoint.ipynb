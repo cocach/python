{
 "cells": [
  {
   "cell_type": "markdown",
   "metadata": {},
   "source": [
    "Let’s see if we can take advantage of these peculiar statistics caused by deamination to locate ori in a circular bacterial genome. Since we know that **C is more frequent in half of the genome and less frequent in the other half**, our idea is to slide a giant window of length `len(Genome)//2` down the genome, counting the number of occurrences of C in each window. (Note: in Python, the double slash `//` indicates **integer division**, or eliminating any remainder; therefore, 11//2 is equal to 5, not 5.5.) Inspired by the nucleotide counts table in Vibrio cholerae (reproduced below), our hope is that the window having **the fewest occurrences of C** will roughly correspond to **the forward half-strand** and that the window having **the most occurrences of C** will roughly correspond to the **reverse half-strand**. And if we know where the forward and reverse half-strands are, then we have found ori!\n",
    "\n",
    "![Rf](RF.png)\n",
    "\n",
    "## Analyzing a genome’s half-strands\n",
    "\n",
    "Although most bacteria have circular genomes, we have thus far assumed that genomes were linear, a reasonable simplifying assumption because the length of the window is much shorter than the length of the genome. This time, because we are sliding a giant window, we should account for windows that “wrap around” the end of Genome. To do so, we will define a string ExtendedGenome as `Genome+Genome[0:n//2]`. That is, we copy the first len(Genome)//2 nucleotides of Genome to the end of the string (figure below).\n",
    "\n",
    "```\n",
    "                            CTGCTTCGCCCGCCGGACCGGCCTCGTGATGGGGTCTGCTTCGCCCGCCGGA\n",
    "```\n",
    "\n",
    "**Figure**: A DNA string Genome (shown in black) containing 35 nucleotides that is extended by its first 17 nucleotides (shown in green) to yield ExtendedGenome.\n",
    "\n",
    "We will keep track of the total number of occurrences of C that we encounter in each window of ExtendedGenome by using a symbol array. The i-th element of the symbol array is equal to the number of occurrences of the symbol in the window of length len(Genome)//2 starting at position i of ExtendedGenome. For example, see the figure below.\n",
    "\n",
    "![dd](dd.png)\n",
    "\n",
    "**Figure**: The symbol array for Genome equal to \"AAAAGGGG\" and symbol equal to \"A\".\n",
    "\n",
    "Fortunately, we already know how to count the number of occurrences of C in a window of ExtendedGenome: use the function PatternCount! We can therefore define the following function that takes strings Genome and symbol as input and returns the symbol array of Genome corresponding to symbol.\n",
    "\n"
   ]
  },
  {
   "cell_type": "code",
   "execution_count": 7,
   "metadata": {},
   "outputs": [],
   "source": [
    "def PatternCount(Pattern, Text):\n",
    "    import re\n",
    "    return len(re.findall('(?='+Pattern+')', Text))\n",
    "\n",
    "def SymbolArray_lowlow(Genome, symbol):\n",
    "    array = {}\n",
    "    ExtendedGenome = Genome + Genome[0:len(Genome)//2]\n",
    "    return {i:PatternCount(symbol, ExtendedGenome[i:i+(len(Genome)//2)]) for i in range(len(Genome))}\n",
    "    \n",
    "def SymbolArray_low(Genome, symbol):\n",
    "    array = {}\n",
    "    ExtendedGenome = Genome + Genome[0:len(Genome)//2]\n",
    "    for i in range(len(Genome)):\n",
    "        array[i] = PatternCount(symbol, ExtendedGenome[i:i+(len(Genome)//2)])\n",
    "    return array"
   ]
  },
  {
   "cell_type": "code",
   "execution_count": 8,
   "metadata": {},
   "outputs": [
    {
     "ename": "NameError",
     "evalue": "name 'SymbolArray' is not defined",
     "output_type": "error",
     "traceback": [
      "\u001b[0;31m---------------------------------------------------------------------------\u001b[0m",
      "\u001b[0;31mNameError\u001b[0m                                 Traceback (most recent call last)",
      "\u001b[0;32m<ipython-input-8-ecfc7fb38dc8>\u001b[0m in \u001b[0;36m<module>\u001b[0;34m()\u001b[0m\n\u001b[0;32m----> 1\u001b[0;31m \u001b[0mprint\u001b[0m\u001b[0;34m(\u001b[0m\u001b[0mSymbolArray\u001b[0m\u001b[0;34m(\u001b[0m\u001b[0;34m\"AAAAGGGG\"\u001b[0m\u001b[0;34m,\u001b[0m \u001b[0;34m\"A\"\u001b[0m\u001b[0;34m)\u001b[0m\u001b[0;34m)\u001b[0m\u001b[0;34m\u001b[0m\u001b[0m\n\u001b[0m",
      "\u001b[0;31mNameError\u001b[0m: name 'SymbolArray' is not defined"
     ]
    }
   ],
   "source": [
    "print(SymbolArray(\"AAAAGGGG\", \"A\"))"
   ]
  },
  {
   "cell_type": "code",
   "execution_count": 9,
   "metadata": {},
   "outputs": [],
   "source": [
    "with open(\"E_coli.txt\", \"r\") as E_coli:\n",
    "    E_coli = E_coli.read()"
   ]
  },
  {
   "cell_type": "markdown",
   "metadata": {},
   "source": [
    "## From an inefficient to an efficient algorithm\n",
    "\n",
    "Just because SymbolArray is inefficient does not imply that a quick algorithm for constructing a symbol array does not exist. To develop a faster algorithm, we will think about what currently happens in the for loop within SymbolArray, reproduced below.\n",
    "\n"
   ]
  },
  {
   "cell_type": "code",
   "execution_count": 42,
   "metadata": {},
   "outputs": [],
   "source": [
    "def FasterSymbolArray(Genome, symbol):\n",
    "    array = {}\n",
    "    n = len(Genome)\n",
    "    ExtendedGenome = Genome + Genome[0:(n//2)]\n",
    "    array[0] = PatternCount(Pattern=symbol, Text=ExtendedGenome[0:(n//2)])\n",
    "    for i in range(1,n):\n",
    "        array[i] = array[i-1]\n",
    "        if ExtendedGenome[i-1] == symbol:\n",
    "            array[i] -= 1\n",
    "        if ExtendedGenome[i+ (n//2) -1] == symbol:\n",
    "            array[i] += 1\n",
    "    return array"
   ]
  },
  {
   "cell_type": "code",
   "execution_count": 43,
   "metadata": {},
   "outputs": [],
   "source": [
    "array = FasterSymbolArray(E_coli, \"C\")"
   ]
  },
  {
   "cell_type": "code",
   "execution_count": 44,
   "metadata": {},
   "outputs": [],
   "source": [
    "import matplotlib.pyplot as plt\n",
    "import numpy as np"
   ]
  },
  {
   "cell_type": "code",
   "execution_count": 47,
   "metadata": {},
   "outputs": [
    {
     "data": {
      "text/plain": [
       "[<matplotlib.lines.Line2D at 0x7f58b89b4a90>]"
      ]
     },
     "execution_count": 47,
     "metadata": {},
     "output_type": "execute_result"
    },
    {
     "data": {
      "image/png": "[encoded data removed]",
      "text/plain": [
       "<Figure size 432x288 with 1 Axes>"
      ]
     },
     "metadata": {},
     "output_type": "display_data"
    }
   ],
   "source": [
    "Count = []\n",
    "for i in array:\n",
    "    Count.append(array[i])\n",
    "position = np.linspace(0, len(array), len(array))\n",
    "plt.plot(position, Count)"
   ]
  },
  {
   "cell_type": "code",
   "execution_count": null,
   "metadata": {},
   "outputs": [],
   "source": []
  }
 ],
 "metadata": {
  "kernelspec": {
   "display_name": "Python 3",
   "language": "python",
   "name": "python3"
  },
  "language_info": {
   "codemirror_mode": {
    "name": "ipython",
    "version": 3
   },
   "file_extension": ".py",
   "mimetype": "text/x-python",
   "name": "python",
   "nbconvert_exporter": "python",
   "pygments_lexer": "ipython3",
   "version": "3.6.5"
  }
 },
 "nbformat": 4,
 "nbformat_minor": 2
}
