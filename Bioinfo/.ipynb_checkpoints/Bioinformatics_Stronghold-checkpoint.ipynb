{
 "cells": [
  {
   "cell_type": "markdown",
   "metadata": {},
   "source": [
    "Discover the algorithms underlying a variety of bioinformatics topics: computational mass spectrometry, alignment, dynamic programming, genome assembly, genome rearrangements, phylogeny, probability, string algorithms and others.\n",
    "\n",
    "探索各种生物信息学相关的算法：计算质谱，比对，动态规划，基因组装配，基因组重排，系统发育，概率，字符串算法等。"
   ]
  },
  {
   "cell_type": "markdown",
   "metadata": {},
   "source": [
    "# Counting DNA Nucleotides\n",
    "\n",
    "# 计算DNA核苷酸\n",
    "\n",
    "## A Rapid Introduction to Molecular Biology\n",
    "\n",
    "## 分子生物学快速入门\n",
    "\n",
    "Making up all living material, the **cell** is considered to be the building block of life. The **nucleus**, a component of most **eukaryotic** cells, was identified as the hub of cellular activity 150 years ago. Viewed under a light microscope, the nucleus appears only as a darker region of the cell, but as we increase magnification, we find that the nucleus is densely filled with a stew of macromolecules called **chromatin**. During **mitosis** (eukaryotic cell division), most of the chromatin condenses into long, thin strings called **chromosomes**. See Figure 1 for a figure of cells in different stages of mitosis.\n",
    "\n",
    "**细胞**作为构成所有生物原料被认为是生命的基石。**细胞核**是大多数**真核细胞**的组成部分，150年前被确定为细胞活动的中心。在光学显微镜下观察，细胞核仅作为细胞的较暗区域出现，但随着我们增加放大倍数，我们发现细胞核密集地充满了称为**染色质**的大分子物质。在**有丝分裂**期间（真核细胞分裂），大多数染色质浓缩成长而细的细胞串，称为**染色体**。有关有丝分裂不同阶段的细胞图见下图。\n",
    "\n",
    "![f.1](Images/001.png)\n",
    "\n",
    "**Figure 1.** A 1900 drawing by Edmund Wilson of onion cells at different stages of mitosis. The sample has been dyed, causing chromatin in the cells (which soaks up the dye) to appear in greater contrast to the rest of the cell.\n",
    "\n",
    "**图1.** 在1900年Emmund Wilson在有丝分裂不同阶段绘制的洋葱细胞图。由于样品已被染色，导致细胞中的染色质（吸收染料）与细胞的其他部分形成鲜明对比。\n",
    "\n",
    "One class of the macromolecules contained in chromatin are called **nucleic acids**. Early 20th century research into the chemical identity of nucleic acids culminated with the conclusion that nucleic acids are **polymers**, or repeating chains of smaller, similarly structured molecules known as **monomers**. Because of their tendency to be long and thin, nucleic acid polymers are commonly called **strands**.\n",
    "\n",
    "染色质中含有的一类大分子称为**核酸**。20世纪早期对核酸化学特性的研究最终得出结论：核酸是**聚合物**，或者将这种重复结构的称为**单体**。由于它们倾向于长而薄，核酸聚合物通常被称为**链**。\n",
    "\n",
    "The nucleic acid monomer is called a **nucleotide** and is used as a unit of strand length (abbreviated to nt). Each nucleotide is formed of three parts: a **sugar** molecule, a negatively charged **ion** called a phosphate, and a compound called a **nucleobase** (\"base\" for short). Polymerization is achieved as the sugar of one nucleotide bonds to the phosphate of the next nucleotide in the chain, which forms a **sugar-phosphate backbone** for the nucleic acid strand. A key point is that the nucleotides of a specific type of nucleic acid always contain the same sugar and phosphate molecules, and they differ only in their choice of base. Thus, one strand of a nucleic acid can be differentiated from another based solely on the order of its bases; this ordering of bases defines a nucleic acid's **primary structure**.\n",
    "\n",
    "核酸单体称为**核苷酸**，并作为链长度的单位（缩写为*nt*）。每个核苷酸由三部分组成：**糖分子**，带有负离子的**磷酸盐**，和**核碱基**化合物（简称“碱基”）。当一个核苷酸的糖与链中下一个核苷酸的磷酸键合时开始聚合，其形成核酸链的**糖-磷酸骨架**。关键点在于特定类型核酸的核苷酸总是含有相同的糖和磷酸盐分子，它们的区别仅在于它们对碱基的选择。因此，核酸的一条链可以仅基于其碱基的顺序与另一条链区分开;碱基的这种排序定义了核酸的**主要结构**。\n",
    "\n",
    "For example, Figure 2 shows a strand of **deoxyribose nucleic acid** (DNA), in which the sugar is called **deoxyribose**, and the only four choices for nucleobases are molecules called **adenine** (A), **cytosine** (C), **guanine** (G), and **thymine** (T).\n",
    "\n",
    "例如，图2显示了**脱氧核糖核酸**（DNA）链，其中糖被称为**脱氧核糖**，分别有四种碱基：**腺嘌呤**（A），**胞嘧啶**（C），**鸟嘌呤**（G）和**胸腺嘧啶**（T）。\n",
    "\n",
    "![f.2](Images/002.png)\n",
    "\n",
    "**Figure 2.** A sketch of DNA's primary structure.\n",
    "\n",
    "\n",
    "**图2.** DNA的主要结构草图。\n",
    "\n",
    "For reasons we will soon see, DNA is found in all living organisms on Earth, including bacteria; it is even found in many viruses (which are often considered to be nonliving). Because of its importance, we reserve the term **genome** to refer to the sum total of the DNA contained in an organism's chromosomes.\n",
    "\n",
    "DNA存在于地球上的所有生物体中，包括细菌;它甚至存在于许多病毒中（通常被认为是非生命的）。由于其重要性，我们使用“**基因组**”来指代生物体染色体中包含的DNA的总和。\n",
    "\n",
    "## Problem\n",
    "\n",
    "## 问题\n",
    "\n",
    "A **string** is simply an ordered collection of symbols selected from some **alphabet** and formed into a word; the **length** of a string is the number of symbols that it contains.\n",
    "\n",
    "**字符串**只是从某些**字母表**中选择的符号的有序集合，并形成一个单词;字符串的**长度**是它包含的符号数。 \n",
    "\n",
    "An example of a length 21 **DNA string** (whose alphabet contains the symbols 'A', 'C', 'G', and 'T') is \"ATGCTTCAGAAAGGTCTTACG.\"\n",
    "\n",
    "长度为21的**DNA串**（其字母包含符号'A'，'C'，'G'和'T'）的示例是“ATGCTTCAGAAAGGTCTTACG”。\n",
    "\n",
    "**Given:** A DNA string s of length at most 1000 nt.\n",
    "\n",
    "**Return:** Four integers (separated by spaces) counting the respective number of times that the symbols 'A', 'C', 'G', and 'T' occur in s.\n",
    "\n",
    "## Sample Dataset\n",
    "\n",
    "## 样本数据集\n",
    "\n",
    "```\n",
    "AGCTTTTCATTCTGACTGCAACGGGCAATATGTCTCTGTGTGGATTAAAAAAAGAGTGTCTGATAGCAGC\n",
    "```\n",
    "\n",
    "## Sample Output\n",
    " \n",
    "## 样本输出\n",
    "\n",
    "```\n",
    "20 12 17 21\n",
    "```"
   ]
  },
  {
   "cell_type": "code",
   "execution_count": 3,
   "metadata": {},
   "outputs": [],
   "source": [
    "def count_DNA(string):\n",
    "    c = {\"A\":0, \"C\":0, \"G\":0, \"T\":0}\n",
    "    for i in string:\n",
    "        if i == \"A\":\n",
    "            c[\"A\"] += 1\n",
    "        elif i == \"T\":\n",
    "            c[\"T\"] += 1\n",
    "        elif i == \"C\":\n",
    "            c[\"C\"] += 1\n",
    "        elif i == \"G\":\n",
    "            c[\"G\"] += 1\n",
    "    return c"
   ]
  },
  {
   "cell_type": "code",
   "execution_count": 4,
   "metadata": {},
   "outputs": [
    {
     "name": "stdout",
     "output_type": "stream",
     "text": [
      "{'A': 20, 'C': 12, 'G': 17, 'T': 21}\n"
     ]
    }
   ],
   "source": [
    "print(count_DNA(\"AGCTTTTCATTCTGACTGCAACGGGCAATATGTCTCTGTGTGGATTAAAAAAAGAGTGTCTGATAGCAGC\"))"
   ]
  },
  {
   "cell_type": "code",
   "execution_count": 5,
   "metadata": {},
   "outputs": [],
   "source": [
    "with open(\"../Bioinformatics_Stronghold/data/rosalind_dna.txt\", \"r\") as r_dna:\n",
    "    r_dna = r_dna.read()"
   ]
  },
  {
   "cell_type": "code",
   "execution_count": 6,
   "metadata": {},
   "outputs": [
    {
     "name": "stdout",
     "output_type": "stream",
     "text": [
      "{'A': 243, 'C': 228, 'G': 221, 'T': 231}\n"
     ]
    }
   ],
   "source": [
    "print(count_DNA(r_dna))"
   ]
  },
  {
   "cell_type": "code",
   "execution_count": 7,
   "metadata": {},
   "outputs": [
    {
     "data": {
      "text/plain": [
       "243"
      ]
     },
     "execution_count": 7,
     "metadata": {},
     "output_type": "execute_result"
    }
   ],
   "source": [
    "r_dna.count(\"A\")"
   ]
  },
  {
   "cell_type": "markdown",
   "metadata": {},
   "source": [
    "# Transcribing DNA into RNA\n",
    "\n",
    "# DNA 转录为 RNA\n",
    "\n",
    "## The Second Nucleic Acid\n",
    "\n",
    "## 第二种核酸\n",
    "\n",
    "In “**Counting DNA Nucleotides**”, we described the **primary structure** of a **nucleic acid** as a polymer of **nucleotide** units, and we mentioned that the omnipresent nucleic acid **DNA** is composed of a varied sequence of four bases.\n",
    "\n",
    "在“**计数DNA核苷酸**”中，我们描述了**核酸**的**一级结构**作为**核苷酸**单位的聚合物，我们提到了无处不在的核酸**DNA**由四个碱基的不同序列组成。\n",
    "\n",
    "Yet a second nucleic acid exists alongside DNA in the **chromatin**; this molecule, which possesses a different sugar called **ribose**, came to be known as **ribose nucleic acid**, or RNA. RNA differs further from DNA in that it contains a base called **uracil** in place of **thymine**; structural differences between DNA and RNA are shown in Figure 1. Biologists initially believed that RNA was only contained in plant **cells**, whereas DNA was restricted to animal cells. However, this hypothesis dissipated as improved chemical methods discovered both nucleic acids in the cells of all life forms on Earth.\n",
    "\n",
    "然而，第二种核酸与**染色质**中的DNA一起存在;这种分子具有不同的糖，称为**核糖**，后来被称为**核糖核酸**或RNA。RNA与DNA的不同之处在于它含有一种叫做尿嘧啶的**碱基代替**胸腺嘧啶**;DNA和RNA之间的结构差异如图1所示。生物学家最初认为RNA仅包含在**植物细胞**中，而DNA仅限于动物细胞。然而，随着改进的化学方法在地球上所有生命形式的细胞中发现了两种核酸，这一假设消失了。\n",
    "\n",
    "![f.3](Images/003.png)\n",
    "\n",
    "**Figure 1.** Structural differences between RNA and DNA\n",
    "\n",
    "**图1. ** RNA和DNA之间的结构差异\n",
    "\n",
    "The **primary structure** of DNA and RNA is so similar because the former serves as a blueprint for the creation of a special kind of RNA molecule called **messenger RNA**, or mRNA. mRNA is created during RNA transcription, during which a **strand** of DNA is used as a template for constructing a strand of RNA by copying nucleotides one at a time, where uracil is used in place of thymine.\n",
    "\n",
    "DNA和RNA的**主要结构**是如此相似，因为前者是创建**信使RNA**或mRNA这种特殊RNA分子的蓝图。mRNA在RNA转录期间产生，在此期间，DNA的**链**用作构建RNA链的模板，通过一次复制一个核苷酸，其中使用尿嘧啶代替胸腺嘧啶。\n",
    "\n",
    "In eukaryotes, DNA remains in the **nucleus**, while RNA can enter the far reaches of the cell to carry out DNA's instructions. In future problems, we will examine the process and ramifications of RNA transcription in more detail.\n",
    "\n",
    "在真核生物中，DNA存在于**细胞核**中，而RNA可以进入细胞的远端以执行DNA的命令。在以后的问题中，我们将更详细地研究RNA转录的过程和分枝。\n",
    "\n",
    "## Problem\n",
    "\n",
    "An **RNA string** is a string formed from the alphabet containing 'A', 'C', 'G', and 'U'.\n",
    "\n",
    "**RNA串**是由包含'A'，'C'，'G'和'U'的字母组成的字符串。\n",
    "\n",
    "Given a DNA string t corresponding to a coding strand, its transcribed RNA string u is formed by replacing all occurrences of 'T' in t with 'U' in u.\n",
    "\n",
    "给定对应于编码链的DNA串*t*，其转录的RNA串*u*通过用*u*中的'U'替换t中所有出现的'T'而形成。\n",
    "\n",
    "**Given:** A DNA string t having length at most 1000 nt.\n",
    "\n",
    "**Return:** The transcribed RNA string of t.\n",
    "\n",
    "## Sample Dataset\n",
    "\n",
    "```\n",
    "GATGGAACTTGACTACGTAAATT\n",
    "```\n",
    "\n",
    "## Sample Output\n",
    "\n",
    "```\n",
    "GAUGGAACUUGACUACGUAAAUU\n",
    "```"
   ]
  },
  {
   "cell_type": "code",
   "execution_count": null,
   "metadata": {},
   "outputs": [],
   "source": [
    "def transcribing_RNA(string):\n",
    "    "
   ]
  }
 ],
 "metadata": {
  "kernelspec": {
   "display_name": "Python 3",
   "language": "python",
   "name": "python3"
  },
  "language_info": {
   "codemirror_mode": {
    "name": "ipython",
    "version": 3
   },
   "file_extension": ".py",
   "mimetype": "text/x-python",
   "name": "python",
   "nbconvert_exporter": "python",
   "pygments_lexer": "ipython3",
   "version": "3.6.5"
  }
 },
 "nbformat": 4,
 "nbformat_minor": 2
}
