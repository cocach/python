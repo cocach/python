{
 "cells": [
  {
   "cell_type": "markdown",
   "metadata": {},
   "source": [
    "## Counting words\n",
    "\n",
    "Find a “hidden message” in the replication origin. \n",
    "\n",
    "**Input**: A string Text.\n",
    "\n",
    "**Output**: A hidden message in Text. \n",
    "\n",
    "Operating under the assumption that DNA is a language of its own, let’s borrow Legrand’s method and see if we can find any surprisingly frequent “words” within the ori of Vibrio cholerae. We have added reason to look for frequent words in the ori because for various biological processes, certain nucleotide strings appear surprisingly often in small regions of the genome. This is often because certain proteins can only bind to DNA if a specific string of nucleotides is present, and if there are more occurrences of the string, then it is more likely that binding will successfully occur. (It is also less likely that a mutation will disrupt the binding process.)\n",
    "\n",
    "For example, \"**ACTAT**\" is a surprisingly frequent **substring** of \n",
    "\n",
    "\"ACA**ACTAT**GCAT**ACTAT**CGGGA**ACTAT**CCT\".\n",
    "\n",
    "We use the term **k-mer** for a string of length k and define PatternCount(Pattern, Text) as the number of times that a k-mer Pattern appears as a substring of Text. Following the above example,\n",
    "\n",
    "PatternCount(\"ACTAT\", \"ACA**ACTAT**GCAT**ACTAT**CGGGA**ACTAT**CCT\") = 3. \n",
    "\n",
    "Note that PatternCount(\"ATA\", \"CG**ATATAT**CC**ATA**G\") is equal to 3 (not 2) since we should account for overlapping occurrences of Pattern in Text.\n",
    "\n",
    "Before looking for frequent words, we would like to compute PatternCount(Pattern, Text). Because this is your first biological algorithm, we will walk you through the details. To do so, we first create an integer variable count that we set equal to zero:\n",
    "\n",
    "```python\n",
    "count = 0\n",
    "```\n",
    "\n",
    "As illustrated in the figure below, our plan is to “slide a window” down Text, checking whether each k-mer substring of Text matches Pattern. If it does, then we add 1 to count (adding 1 to a variable is called incrementing it). The value of count after we have slid the window to the end of Text will be equal to PatternCount(Pattern, Text). The question, then, is how to convert the idea in the figure into a working program. Doing so will require a little more knowledge of Python.\n",
    "\n",
    "![patterncount](patterncount.png)\n",
    "\n",
    "**Figure**: Sliding a window to compute PatternCount(Pattern, Text) = 3 for Pattern = \"ATA\" and Text = \"CGATATATCCATAG\". We initialize count to zero and then increment it each time that Pattern appears in Text (shown in green).\n",
    "\n",
    "Before thinking about sliding the window down Text, let’s solve the simpler problem of determining whether Pattern matches a k-mer of Text in a fixed window. In Python, the k-mer beginning at position i of Text is denoted `Text[i:i+k]`. For example, if Text = \"GACCATACTG\", then `Text[4:7] = \"ATA\"`. Python uses **0-based indexing**, in which the first symbol of the string occurs at position 0 instead of 1; as a result, Text ends at position len(Text)-1, where len(Text) is the number of symbols in Text.\n",
    "\n",
    "We can now use an **if** statement, shown below, to determine whether Pattern matches `Text[i:i+k]`; if it does, then we increment count.\n",
    "\n",
    "```python\n",
    "if Text[i:i+len(Pattern)] == Pattern:\n",
    "    count = count+1\n",
    "```\n",
    "\n",
    "In the above Python code, make sure to note the difference between the equals symbol (=), in which we assign a value to a variable, and the double equals symbol (==), in which we test the equality of two variables.\n",
    "\n",
    "In Python, the indented block\n",
    "\n",
    "```python\n",
    "for i in range(n):\n",
    "```\n",
    "\n",
    "iterates over all values of i between 0 and n-1. (This is called a **for loop**, and Codecademy will spend more time on it later, but for now we note that the variable i can be anything you like.)\n",
    "\n",
    "For example, we could use the following code to print all even numbers between 0 and 100, inclusively.\n",
    "\n",
    "```python\n",
    "for number in range(51):\n",
    "    print(2*number)\n",
    "```\n",
    "\n",
    "Note again that we used range(51) and not range(50) because range(n) runs from 0 to n-1.\n",
    "\n",
    "In general, the final k-mer of a string of length n begins at position n-k; for example, the final 3-mer of \"GACCATACTG\", which has length 10, begins at position 10 - 3 = 7. This observation implies that the window should slide between position 0 and position len(Text)-len(Pattern).\n",
    "\n",
    "Thus, to slide our window from position 0 to `len(Text)-len(Pattern)`, we will need a for loop of the form\n",
    "\n",
    "```python\n",
    "for i in range(len(Text)-len(Pattern)+1):\n",
    "```\n",
    "\n",
    "We are now ready to use this for loop along with our previous if statement to expand our code for PatternCount.\n",
    "\n",
    "```python \n",
    "count = 0\n",
    "for i in range(len(Text)-len(Pattern)+1):\n",
    "    if Text[i:i+len(Pattern)] == Pattern:\n",
    "        count = count+1 \n",
    "```"
   ]
  },
  {
   "cell_type": "code",
   "execution_count": 48,
   "metadata": {},
   "outputs": [],
   "source": [
    "with open(\"/home/duansq/Documents/python/codecademy/vibrio_cholerae_dna_seq.txt\", \"r+\") as dna_seq:\n",
    "    dna_seq = dna_seq.read()\n",
    "\n",
    "ori = \"atcaatgatcaacgtaagcttctaagcatgatcaaggtgctcacacagtttatccacaacctgagtggatgacatcaagataggtcgttgtatctccttcctctcgtactctcatgaccacggaaagatgatcaagagaggatgatttcttggccatatcgcaatgaatacttgtgacttgtgcttccaattgacatcttcagcgccatattgcgctggccaaggtgacggagcgggattacgaaagcatgatcatggctgttgttctgtttatcttgttttgactgagacttgttaggatagacggtttttcatcactgactagccaaagccttactctgcctgacatcgaccgtaaattgataatgaatttacatgcttccgcgacgatttacctcttgatcatcgatccgattgaagatcttcaattgttaattctcttgcctcgactcatagccatgatgagctcttgatcatgtttccttaaccctctattttttacggaagaatgatcaagctgctgctcttgatcatcgtttc\""
   ]
  },
  {
   "cell_type": "code",
   "execution_count": 28,
   "metadata": {},
   "outputs": [],
   "source": [
    "def PatternCount(Pattern, Text):\n",
    "    count = 0\n",
    "    for i in range(len(Text) - len(Pattern) + 1): # 注意这儿有个 +1\n",
    "        if Text[i:i + len(Pattern)] == Pattern:\n",
    "            count += 1\n",
    "    return count"
   ]
  },
  {
   "cell_type": "code",
   "execution_count": 40,
   "metadata": {},
   "outputs": [
    {
     "data": {
      "text/plain": [
       "8"
      ]
     },
     "execution_count": 40,
     "metadata": {},
     "output_type": "execute_result"
    }
   ],
   "source": [
    "ori = ori.upper()\n",
    "PatternCount(\"TGATCA\", ori)"
   ]
  },
  {
   "cell_type": "markdown",
   "metadata": {},
   "source": [
    "## The Frequent Words Problem\n",
    "\n",
    "Find the most frequent k-mers in a string. \n",
    "\n",
    "**Input**: A string Text and an integer k. \n",
    "\n",
    "**Output**: All most frequent k-mers in Text."
   ]
  },
  {
   "cell_type": "code",
   "execution_count": 61,
   "metadata": {},
   "outputs": [],
   "source": [
    "def My_FrequencyMap(Text, k):\n",
    "    freq = {}\n",
    "    n = len(Text)\n",
    "    s = 0\n",
    "    for i in range(n - k + 1):\n",
    "        k_mer = Text[i:i + k]\n",
    "        if k_mer not in d:\n",
    "            d[k_mer] = s + 1\n",
    "        else:\n",
    "            d[k_mer] += 1\n",
    "    return d"
   ]
  },
  {
   "cell_type": "code",
   "execution_count": 64,
   "metadata": {},
   "outputs": [],
   "source": [
    "def FrequencyMap(Text, k):\n",
    "    freq = {}\n",
    "    n = len(Text)\n",
    "    for i in range(n-k+1):\n",
    "        Pattern = Text[i:i+k]\n",
    "        freq[Pattern] = 0\n",
    "    for i in range(n-k+1):\n",
    "        Pattern = Text[i:i+k]\n",
    "        if Pattern in freq:\n",
    "            freq[Pattern] += 1\n",
    "    return freq"
   ]
  },
  {
   "cell_type": "code",
   "execution_count": 98,
   "metadata": {},
   "outputs": [],
   "source": [
    "freq = FrequencyMap(dna_seq, 9)\n",
    "words = FrequentWords(dna_seq, 9)"
   ]
  },
  {
   "cell_type": "code",
   "execution_count": 104,
   "metadata": {},
   "outputs": [
    {
     "name": "stdout",
     "output_type": "stream",
     "text": [
      "128\n"
     ]
    }
   ],
   "source": [
    "for i in words:\n",
    "    print(freq[i])"
   ]
  },
  {
   "cell_type": "code",
   "execution_count": 60,
   "metadata": {},
   "outputs": [
    {
     "name": "stdout",
     "output_type": "stream",
     "text": [
      "{'atc': 21, 'tca': 17, 'caa': 12, 'aat': 10, 'atg': 15, 'tga': 25, 'gat': 21, 'aac': 3, 'acg': 7, 'cgt': 5, 'gta': 4, 'taa': 6, 'aag': 12, 'agc': 10, 'gct': 10, 'ctt': 17, 'ttc': 12, 'tct': 16, 'cta': 3, 'gca': 3, 'cat': 16, 'agg': 5, 'ggt': 4, 'gtg': 5, 'tgc': 8, 'ctc': 14, 'cac': 5, 'aca': 7, 'cag': 2, 'agt': 2, 'gtt': 11, 'ttt': 16, 'tta': 10, 'tat': 6, 'tcc': 7, 'cca': 8, 'acc': 5, 'cct': 9, 'ctg': 10, 'gag': 6, 'tgg': 4, 'gga': 7, 'gac': 13, 'aga': 8, 'ata': 7, 'tag': 5, 'gtc': 1, 'tcg': 7, 'ttg': 17, 'tgt': 10, 'tac': 7, 'act': 9, 'cgg': 5, 'gaa': 7, 'aaa': 4, 'att': 11, 'ggc': 3, 'gcc': 8, 'cgc': 4, 'gcg': 4, 'ggg': 1, 'cga': 7, 'ccg': 3, 'ccc': 1}\n"
     ]
    }
   ],
   "source": [
    "print(FrequencyMap(ori, 3))"
   ]
  },
  {
   "cell_type": "markdown",
   "metadata": {},
   "source": [
    "Now that we have a function to generate a frequency map from a given string and integer, we need to find the maximum value in this map and return all keys that achieve the maximum; this will represent a function `FrequentWords(Text, k)` to solve the Frequent Words Problem from the main text.\n",
    "\n",
    "For example, given `Text = \"CGATATATCGAT\"` and `k = 3`, we have the following frequency map, and we would like to return a list containing all keys of this dictionary achieving the maximum value of 2 (you have already learned about lists in the preceding Python Practice)."
   ]
  },
  {
   "cell_type": "code",
   "execution_count": 67,
   "metadata": {},
   "outputs": [
    {
     "name": "stdout",
     "output_type": "stream",
     "text": [
      "{'CGA': 2, 'GAT': 2, 'ATA': 2, 'TAT': 2, 'ATC': 1, 'TCG': 1}\n"
     ]
    }
   ],
   "source": [
    "print(FrequencyMap(Text = \"CGATATATCGAT\", k = 3))"
   ]
  },
  {
   "cell_type": "markdown",
   "metadata": {},
   "source": [
    "So let us start by generating an empty list, which will eventually hold the most frequent k-mers.\n",
    "\n",
    "```python\n",
    "words = []\n",
    "```\n",
    "\n",
    "Then, we will generate the frequency map for  Text and k.  We can use the FrequencyMap() function that we have just written as a **subroutine**, or a function that is called within another function.\n",
    "\n",
    "```python\n",
    "freq = FrequencyMap(Text, k)\n",
    "```\n",
    "\n",
    "Speaking of subroutines, to identify the most frequent k-mers in Text, we need to find the maximum value of the Count dictionary. Python has a built-in function called `values()` that returns a list containing the values of a dictionary, and it also has a built in function `max()` for finding the maximum value in a list.  We can therefore find the maximum value in the frequency map freq as follows:\n",
    "\n",
    "```python\n",
    "m = max(freq.values())\n",
    "```"
   ]
  },
  {
   "cell_type": "code",
   "execution_count": 81,
   "metadata": {},
   "outputs": [],
   "source": [
    "def FrequentWords(Text, k):\n",
    "    words = []\n",
    "    freq = FrequencyMap(Text, k)\n",
    "    m = max(freq.values())\n",
    "    for key in freq:\n",
    "        if m == freq[key]:\n",
    "            words.append(key)\n",
    "    return words"
   ]
  },
  {
   "cell_type": "code",
   "execution_count": 87,
   "metadata": {},
   "outputs": [
    {
     "name": "stdout",
     "output_type": "stream",
     "text": [
      "['TTT']\n",
      "['ctcttgatca', 'tcttgatcat']\n"
     ]
    }
   ],
   "source": [
    "print(FrequentWords(dna_seq, 3))\n",
    "print(FrequentWords(ori, 10))"
   ]
  },
  {
   "cell_type": "code",
   "execution_count": 92,
   "metadata": {},
   "outputs": [
    {
     "name": "stdout",
     "output_type": "stream",
     "text": [
      "['TT']\n",
      "['TTT']\n",
      "['TTTT']\n",
      "['TTTTT']\n",
      "['ATTTTT']\n",
      "['AAACTCA']\n",
      "['AAACTCAA']\n",
      "['GCGTTTGTT']\n",
      "['TAACGCCCGC']\n"
     ]
    }
   ],
   "source": [
    "for i in range(2,11):\n",
    "    print(FrequentWords(dna_seq, i))"
   ]
  },
  {
   "cell_type": "markdown",
   "metadata": {},
   "source": [
    "## Reverse Complement Problem:\n",
    "\n",
    "Find the reverse complement of a DNA string. \n",
    "\n",
    "**Input**: A DNA string Pattern.\n",
    "\n",
    "**Output**: The reverse complement of Pattern."
   ]
  },
  {
   "cell_type": "code",
   "execution_count": null,
   "metadata": {},
   "outputs": [],
   "source": []
  }
 ],
 "metadata": {
  "kernelspec": {
   "display_name": "Python 3",
   "language": "python",
   "name": "python3"
  },
  "language_info": {
   "codemirror_mode": {
    "name": "ipython",
    "version": 3
   },
   "file_extension": ".py",
   "mimetype": "text/x-python",
   "name": "python",
   "nbconvert_exporter": "python",
   "pygments_lexer": "ipython3",
   "version": "3.6.5"
  }
 },
 "nbformat": 4,
 "nbformat_minor": 2
}
