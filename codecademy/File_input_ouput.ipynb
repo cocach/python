{
 "cells": [
  {
   "cell_type": "code",
   "execution_count": 15,
   "metadata": {},
   "outputs": [],
   "source": [
    "# w is only write\n",
    "# r is only read\n",
    "# r+ is read and write\n",
    "f = open(\"vibrio_cholerae_dna_seq.txt\", \"w\")\n"
   ]
  },
  {
   "cell_type": "code",
   "execution_count": 7,
   "metadata": {},
   "outputs": [
    {
     "data": {
      "text/plain": [
       "file"
      ]
     },
     "execution_count": 7,
     "metadata": {},
     "output_type": "execute_result"
    }
   ],
   "source": [
    "type(f)"
   ]
  },
  {
   "cell_type": "code",
   "execution_count": 19,
   "metadata": {},
   "outputs": [],
   "source": [
    "my_file = open(\"output.txt\", \"r+\")\n",
    "\n",
    "my_list = [x ** 2 for x in range(1, 11)]\n",
    "\n",
    "for i in my_list:\n",
    "  my_file.write(str(i) + \"\\n\")\n",
    "  \n",
    "my_file.close()"
   ]
  },
  {
   "cell_type": "code",
   "execution_count": 20,
   "metadata": {},
   "outputs": [
    {
     "name": "stdout",
     "output_type": "stream",
     "text": [
      "1\r\n",
      "4\r\n",
      "9\r\n",
      "16\r\n",
      "25\r\n",
      "36\r\n",
      "49\r\n",
      "64\r\n",
      "81\r\n",
      "100\r\n"
     ]
    }
   ],
   "source": [
    "%cat output.txt"
   ]
  },
  {
   "cell_type": "code",
   "execution_count": 23,
   "metadata": {},
   "outputs": [],
   "source": [
    "type(my_file)\n",
    "my_file.close()"
   ]
  },
  {
   "cell_type": "code",
   "execution_count": 27,
   "metadata": {},
   "outputs": [
    {
     "name": "stdout",
     "output_type": "stream",
     "text": [
      "1\n",
      "4\n",
      "9\n",
      "16\n",
      "25\n",
      "36\n",
      "49\n",
      "64\n",
      "81\n",
      "100\n",
      "\n",
      "<type 'str'>\n"
     ]
    }
   ],
   "source": [
    "my_file = open(\"output.txt\", \"r\")\n",
    "print my_file.read()\n",
    "print type(my_file.read())\n",
    "my_file.close()"
   ]
  },
  {
   "cell_type": "code",
   "execution_count": 50,
   "metadata": {},
   "outputs": [],
   "source": [
    "temp = open(\"vibrio_cholerae_dna_seq.txt\", \"r+\")\n",
    "dna_seq = temp.read()\n",
    "temp.close()"
   ]
  },
  {
   "cell_type": "code",
   "execution_count": 44,
   "metadata": {},
   "outputs": [],
   "source": [
    "def count_dna_seq(seq, c):\n",
    "    r = 0\n",
    "    for i in seq:\n",
    "        if i == c:\n",
    "            r += 1\n",
    "    return r"
   ]
  },
  {
   "cell_type": "code",
   "execution_count": 45,
   "metadata": {},
   "outputs": [
    {
     "name": "stdout",
     "output_type": "stream",
     "text": [
      "293942\n",
      "294711\n",
      "263573\n",
      "256024\n"
     ]
    }
   ],
   "source": [
    "print count_dna_seq(dna_seq, \"A\")\n",
    "print count_dna_seq(dna_seq, \"T\")\n",
    "print count_dna_seq(dna_seq, \"C\")\n",
    "print count_dna_seq(dna_seq, \"G\")"
   ]
  },
  {
   "cell_type": "code",
   "execution_count": 51,
   "metadata": {},
   "outputs": [
    {
     "name": "stdout",
     "output_type": "stream",
     "text": [
      "Not closing files is VERY BAD.\n"
     ]
    }
   ],
   "source": [
    "write_file = open(\"text.txt\", \"w\")\n",
    "write_file.write(\"Not closing files is VERY BAD.\")\n",
    "write_file.close() # 如果不关闭文件，那么将不会读入新的数据\n",
    "\n",
    "read_file = open(\"text.txt\", \"r\")\n",
    "print read_file.read()\n",
    "read_file.close()"
   ]
  },
  {
   "cell_type": "code",
   "execution_count": 67,
   "metadata": {},
   "outputs": [
    {
     "name": "stdout",
     "output_type": "stream",
     "text": [
      "Success!\n"
     ]
    }
   ],
   "source": [
    "# 当然我们可以使用一种自动话的方式来关闭文件！\n",
    "# 使用with\n",
    "#　with open(\"file\", \"mode\") as variable:\n",
    "  # Read or write to the file\n",
    "with open(\"test.txt\", \"r+\") as testfile:\n",
    "    testfile.write(\"Success!\")\n",
    "with open(\"test.txt\", \"r+\") as testfile:\n",
    "    a = testfile.read()\n",
    "    \n",
    "print a"
   ]
  },
  {
   "cell_type": "code",
   "execution_count": 66,
   "metadata": {},
   "outputs": [
    {
     "name": "stdout",
     "output_type": "stream",
     "text": [
      "Success!\n"
     ]
    }
   ],
   "source": []
  },
  {
   "cell_type": "code",
   "execution_count": null,
   "metadata": {},
   "outputs": [],
   "source": []
  }
 ],
 "metadata": {
  "kernelspec": {
   "display_name": "Python 2",
   "language": "python",
   "name": "python2"
  },
  "language_info": {
   "codemirror_mode": {
    "name": "ipython",
    "version": 2
   },
   "file_extension": ".py",
   "mimetype": "text/x-python",
   "name": "python",
   "nbconvert_exporter": "python",
   "pygments_lexer": "ipython2",
   "version": "2.7.15rc1"
  }
 },
 "nbformat": 4,
 "nbformat_minor": 2
}
