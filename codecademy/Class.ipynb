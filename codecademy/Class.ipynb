{
 "cells": [
  {
   "cell_type": "code",
   "execution_count": 1,
   "metadata": {},
   "outputs": [],
   "source": [
    "class AA:\n",
    "    pass"
   ]
  },
  {
   "cell_type": "code",
   "execution_count": 4,
   "metadata": {},
   "outputs": [
    {
     "data": {
      "text/plain": [
       "classobj"
      ]
     },
     "execution_count": 4,
     "metadata": {},
     "output_type": "execute_result"
    }
   ],
   "source": [
    "aa = AA()\n",
    "type(AA)"
   ]
  },
  {
   "cell_type": "code",
   "execution_count": 14,
   "metadata": {},
   "outputs": [
    {
     "name": "stdout",
     "output_type": "stream",
     "text": [
      "__main__.AA\n"
     ]
    },
    {
     "data": {
      "text/plain": [
       "instance"
      ]
     },
     "execution_count": 14,
     "metadata": {},
     "output_type": "execute_result"
    }
   ],
   "source": [
    "print aa.__class__\n",
    "# aa是AA的一个实例\n",
    "type(aa)\n",
    "# 二者类型显示不一样，但在python2.2后就统一了"
   ]
  },
  {
   "cell_type": "code",
   "execution_count": 10,
   "metadata": {},
   "outputs": [
    {
     "data": {
      "text/plain": [
       "int"
      ]
     },
     "execution_count": 10,
     "metadata": {},
     "output_type": "execute_result"
    }
   ],
   "source": [
    "a = 1\n",
    "a.__class__\n",
    "# 每个对象都有__class__属性用于显示类型"
   ]
  },
  {
   "cell_type": "code",
   "execution_count": 16,
   "metadata": {},
   "outputs": [],
   "source": [
    "__metaclass__ = type\n",
    "class CC:\n",
    "    pass"
   ]
  },
  {
   "cell_type": "code",
   "execution_count": 18,
   "metadata": {},
   "outputs": [
    {
     "name": "stdout",
     "output_type": "stream",
     "text": [
      "<class '__main__.CC'>\n"
     ]
    },
    {
     "data": {
      "text/plain": [
       "__main__.CC"
      ]
     },
     "execution_count": 18,
     "metadata": {},
     "output_type": "execute_result"
    }
   ],
   "source": [
    "cc = CC()\n",
    "print cc.__class__\n",
    "type(cc)"
   ]
  },
  {
   "cell_type": "code",
   "execution_count": 21,
   "metadata": {},
   "outputs": [],
   "source": [
    "# 类的名称用大写字母开头\n",
    "class Person(object):\n",
    "    # 函数中的首字母不要大写\n",
    "    #初始化函数__init__，通过初始化函数确定这个实例的基本属性\n",
    "    def __init__(self, name):\n",
    "        # 构建实例的一个属性\n",
    "        # self是实例对象本身\n",
    "        self.name = name\n",
    "    # 另外两个方法get_name,color\n",
    "    # get_name方法第一个参数是self\n",
    "    # 返回self.name的值\n",
    "    def get_name(self):\n",
    "        return self.name\n",
    "    def color(self, color):\n",
    "        d = {}\n",
    "        d[self.name] = color\n",
    "        return d"
   ]
  },
  {
   "cell_type": "code",
   "execution_count": 23,
   "metadata": {},
   "outputs": [
    {
     "name": "stdout",
     "output_type": "stream",
     "text": [
      " boduoyejieyi\n",
      "boduoyejieyi\n",
      "{'boduoyejieyi': 'White'}\n"
     ]
    }
   ],
   "source": [
    "if __name__ == \"__main__\":\n",
    "    # 利用Person类创建实例girl，因此girl有属性，有方法\n",
    "    # self是默认参数不需要传值，name需要传值\n",
    "    # 这里我传了一个字符传给name这个参数\n",
    "    girl = Person(\"boduoyejieyi\")\n",
    "    print girl.name\n",
    "    \n",
    "    name = girl.get_name()\n",
    "    print name\n",
    "    her_color = girl.color(\"White\")\n",
    "    print her_color\n",
    "# 类提供默认行为，是实例的工厂"
   ]
  },
  {
   "cell_type": "code",
   "execution_count": null,
   "metadata": {},
   "outputs": [],
   "source": [
    "class A(object):\n",
    "    x = 7\n",
    "A.x"
   ]
  }
 ],
 "metadata": {
  "kernelspec": {
   "display_name": "Python 2",
   "language": "python",
   "name": "python2"
  },
  "language_info": {
   "codemirror_mode": {
    "name": "ipython",
    "version": 2
   },
   "file_extension": ".py",
   "mimetype": "text/x-python",
   "name": "python",
   "nbconvert_exporter": "python",
   "pygments_lexer": "ipython2",
   "version": "2.7.15rc1"
  }
 },
 "nbformat": 4,
 "nbformat_minor": 2
}
