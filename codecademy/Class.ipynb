{
 "cells": [
  {
   "cell_type": "code",
   "execution_count": 1,
   "metadata": {},
   "outputs": [],
   "source": [
    "class AA:\n",
    "    pass"
   ]
  },
  {
   "cell_type": "code",
   "execution_count": 4,
   "metadata": {},
   "outputs": [
    {
     "data": {
      "text/plain": [
       "classobj"
      ]
     },
     "execution_count": 4,
     "metadata": {},
     "output_type": "execute_result"
    }
   ],
   "source": [
    "aa = AA()\n",
    "type(AA)"
   ]
  },
  {
   "cell_type": "code",
   "execution_count": 14,
   "metadata": {},
   "outputs": [
    {
     "name": "stdout",
     "output_type": "stream",
     "text": [
      "__main__.AA\n"
     ]
    },
    {
     "data": {
      "text/plain": [
       "instance"
      ]
     },
     "execution_count": 14,
     "metadata": {},
     "output_type": "execute_result"
    }
   ],
   "source": [
    "print aa.__class__\n",
    "# aa是AA的一个实例\n",
    "type(aa)\n",
    "# 二者类型显示不一样，但在python2.2后就统一了"
   ]
  },
  {
   "cell_type": "code",
   "execution_count": 10,
   "metadata": {},
   "outputs": [
    {
     "data": {
      "text/plain": [
       "int"
      ]
     },
     "execution_count": 10,
     "metadata": {},
     "output_type": "execute_result"
    }
   ],
   "source": [
    "a = 1\n",
    "a.__class__\n",
    "# 每个对象都有__class__属性用于显示类型"
   ]
  },
  {
   "cell_type": "code",
   "execution_count": 16,
   "metadata": {},
   "outputs": [],
   "source": [
    "__metaclass__ = type\n",
    "class CC:\n",
    "    pass"
   ]
  },
  {
   "cell_type": "code",
   "execution_count": 18,
   "metadata": {},
   "outputs": [
    {
     "name": "stdout",
     "output_type": "stream",
     "text": [
      "<class '__main__.CC'>\n"
     ]
    },
    {
     "data": {
      "text/plain": [
       "__main__.CC"
      ]
     },
     "execution_count": 18,
     "metadata": {},
     "output_type": "execute_result"
    }
   ],
   "source": [
    "cc = CC()\n",
    "print cc.__class__\n",
    "type(cc)"
   ]
  },
  {
   "cell_type": "code",
   "execution_count": 21,
   "metadata": {},
   "outputs": [],
   "source": [
    "# 类的名称用大写字母开头\n",
    "class Person(object):\n",
    "    # 函数中的首字母不要大写\n",
    "    # 初始化函数__init__，通过初始化函数确定这个实例的基本属性\n",
    "    # 这里的self其实是将object传入到self中！\n",
    "    def __init__(self, name):\n",
    "        # 构建实例的一个属性\n",
    "        # self是实例对象本身\n",
    "        self.name = name\n",
    "    # 另外两个方法get_name,color\n",
    "    # get_name方法第一个参数是self\n",
    "    # 返回self.name的值\n",
    "    def get_name(self):\n",
    "        return self.name\n",
    "    def color(self, color):\n",
    "        d = {}\n",
    "        d[self.name] = color\n",
    "        return d"
   ]
  },
  {
   "cell_type": "code",
   "execution_count": 23,
   "metadata": {},
   "outputs": [
    {
     "name": "stdout",
     "output_type": "stream",
     "text": [
      " boduoyejieyi\n",
      "boduoyejieyi\n",
      "{'boduoyejieyi': 'White'}\n"
     ]
    }
   ],
   "source": [
    "if __name__ == \"__main__\":\n",
    "    # 利用Person类创建实例girl，因此girl有属性，有方法\n",
    "    # self是默认参数不需要传值，name需要传值\n",
    "    # 这里我传了一个字符传给name这个参数\n",
    "    girl = Person(\"boduoyejieyi\")\n",
    "    print girl.name\n",
    "    \n",
    "    name = girl.get_name()\n",
    "    print name\n",
    "    her_color = girl.color(\"White\")\n",
    "    print her_color\n",
    "# 类提供默认行为，是实例的工厂"
   ]
  },
  {
   "cell_type": "code",
   "execution_count": 30,
   "metadata": {},
   "outputs": [
    {
     "name": "stdout",
     "output_type": "stream",
     "text": [
      "7\n",
      "10\n"
     ]
    },
    {
     "ename": "AttributeError",
     "evalue": "type object 'A' has no attribute 'y'",
     "output_type": "error",
     "traceback": [
      "\u001b[0;31m---------------------------------------------------------------------------\u001b[0m",
      "\u001b[0;31mAttributeError\u001b[0m                            Traceback (most recent call last)",
      "\u001b[0;32m<ipython-input-30-2daaa4f76e9e>\u001b[0m in \u001b[0;36m<module>\u001b[0;34m()\u001b[0m\n\u001b[1;32m      8\u001b[0m \u001b[0;31m# 使用del可以删除属性\u001b[0m\u001b[0;34m\u001b[0m\u001b[0;34m\u001b[0m\u001b[0m\n\u001b[1;32m      9\u001b[0m \u001b[0;32mdel\u001b[0m \u001b[0mA\u001b[0m\u001b[0;34m.\u001b[0m\u001b[0my\u001b[0m\u001b[0;34m\u001b[0m\u001b[0m\n\u001b[0;32m---> 10\u001b[0;31m \u001b[0;32mprint\u001b[0m \u001b[0mA\u001b[0m\u001b[0;34m.\u001b[0m\u001b[0my\u001b[0m\u001b[0;34m\u001b[0m\u001b[0m\n\u001b[0m",
      "\u001b[0;31mAttributeError\u001b[0m: type object 'A' has no attribute 'y'"
     ]
    }
   ],
   "source": [
    "class A(object):\n",
    "    # 定义一个属性x\n",
    "    x = 7\n",
    "    \n",
    "print A.x\n",
    "A.y = 10\n",
    "print A.y\n",
    "# 使用del可以删除属性\n",
    "#　删除之后若还要调用就会报错\n",
    "del A.y\n",
    "print A.y"
   ]
  },
  {
   "cell_type": "code",
   "execution_count": 37,
   "metadata": {},
   "outputs": [
    {
     "name": "stdout",
     "output_type": "stream",
     "text": [
      "['__class__', '__delattr__', '__dict__', '__doc__', '__format__', '__getattribute__', '__hash__', '__init__', '__module__', '__new__', '__reduce__', '__reduce_ex__', '__repr__', '__setattr__', '__sizeof__', '__str__', '__subclasshook__', '__weakref__', 'breast']\n",
      "**************************************************\n",
      "{'__dict__': <attribute '__dict__' of 'Girl' objects>, '__module__': '__main__', '__weakref__': <attribute '__weakref__' of 'Girl' objects>, 'breast': 90, '__doc__': None}\n"
     ]
    }
   ],
   "source": [
    "# 使用dir()查看类的所有属性和方法\n",
    "print dir(Girl)\n",
    "# __dict__这个特殊属性，因为它以下划线开头和结尾\n",
    "# 其显示的是该类的属性名称和该属性的完整数据\n",
    "print \"*\" * 50\n",
    "print Girl.__dict__"
   ]
  },
  {
   "cell_type": "code",
   "execution_count": 45,
   "metadata": {},
   "outputs": [
    {
     "name": "stdout",
     "output_type": "stream",
     "text": [
      "90\n"
     ]
    }
   ],
   "source": [
    "# 属性描述的是种类的性质（颜色），所以属性的性质就是所谓的值（蓝色）\n",
    "class Girl(object):\n",
    "    \"\"\"This is a document!\"\"\"\n",
    "    breast = 90 # breast是Girl的一个重要属性\n",
    "\n",
    "print Girl.breast"
   ]
  },
  {
   "cell_type": "code",
   "execution_count": 38,
   "metadata": {},
   "outputs": [
    {
     "data": {
      "text/plain": [
       "'Girl'"
      ]
     },
     "execution_count": 38,
     "metadata": {},
     "output_type": "execute_result"
    }
   ],
   "source": [
    "Girl.__name__ # 显示名称"
   ]
  },
  {
   "cell_type": "code",
   "execution_count": 46,
   "metadata": {},
   "outputs": [
    {
     "data": {
      "text/plain": [
       "'This is a document!'"
      ]
     },
     "execution_count": 46,
     "metadata": {},
     "output_type": "execute_result"
    }
   ],
   "source": [
    "Girl.__doc__ # 显示文档"
   ]
  },
  {
   "cell_type": "code",
   "execution_count": 47,
   "metadata": {},
   "outputs": [
    {
     "data": {
      "text/plain": [
       "'__main__'"
      ]
     },
     "execution_count": 47,
     "metadata": {},
     "output_type": "execute_result"
    }
   ],
   "source": [
    "Girl.__module__ # 显示模块，换句话说这个类的全称是__main__.Girl"
   ]
  },
  {
   "cell_type": "code",
   "execution_count": 50,
   "metadata": {},
   "outputs": [
    {
     "name": "stdout",
     "output_type": "stream",
     "text": [
      "math\n"
     ]
    }
   ],
   "source": [
    "from math import sin\n",
    "print sin.__module__ # sin的全称是math.sin"
   ]
  },
  {
   "cell_type": "code",
   "execution_count": 51,
   "metadata": {},
   "outputs": [
    {
     "data": {
      "text/plain": [
       "'sin(x)\\n\\nReturn the sine of x (measured in radians).'"
      ]
     },
     "execution_count": 51,
     "metadata": {},
     "output_type": "execute_result"
    }
   ],
   "source": [
    "sin.__doc__"
   ]
  },
  {
   "cell_type": "code",
   "execution_count": 53,
   "metadata": {},
   "outputs": [
    {
     "name": "stdout",
     "output_type": "stream",
     "text": [
      "<__main__.Girl object at 0x7efc58489550>\n"
     ]
    }
   ],
   "source": [
    "canglaoshi = Girl()\n",
    "print canglaoshi"
   ]
  },
  {
   "cell_type": "code",
   "execution_count": 56,
   "metadata": {},
   "outputs": [
    {
     "name": "stdout",
     "output_type": "stream",
     "text": [
      "7\n",
      "8\n"
     ]
    },
    {
     "ename": "AttributeError",
     "evalue": "type object 'foo' has no attribute 'x'",
     "output_type": "error",
     "traceback": [
      "\u001b[0;31m---------------------------------------------------------------------------\u001b[0m",
      "\u001b[0;31mAttributeError\u001b[0m                            Traceback (most recent call last)",
      "\u001b[0;32m<ipython-input-56-af721e587a27>\u001b[0m in \u001b[0;36m<module>\u001b[0;34m()\u001b[0m\n\u001b[1;32m      6\u001b[0m \u001b[0;32mprint\u001b[0m \u001b[0mfoo\u001b[0m\u001b[0;34m.\u001b[0m\u001b[0mx\u001b[0m\u001b[0;34m\u001b[0m\u001b[0m\n\u001b[1;32m      7\u001b[0m \u001b[0;32mdel\u001b[0m \u001b[0mfoo\u001b[0m\u001b[0;34m.\u001b[0m\u001b[0mx\u001b[0m\u001b[0;34m\u001b[0m\u001b[0m\n\u001b[0;32m----> 8\u001b[0;31m \u001b[0;32mprint\u001b[0m \u001b[0mfoo\u001b[0m\u001b[0;34m.\u001b[0m\u001b[0mx\u001b[0m\u001b[0;34m\u001b[0m\u001b[0m\n\u001b[0m",
      "\u001b[0;31mAttributeError\u001b[0m: type object 'foo' has no attribute 'x'"
     ]
    }
   ],
   "source": [
    "class foo(object):\n",
    "    x = 7\n",
    "    \n",
    "print foo.x\n",
    "foo.x += 1\n",
    "print foo.x\n",
    "del foo.x\n",
    "print foo.x"
   ]
  },
  {
   "cell_type": "code",
   "execution_count": 60,
   "metadata": {},
   "outputs": [
    {
     "name": "stdout",
     "output_type": "stream",
     "text": [
      "this is a normal method of class\n"
     ]
    }
   ],
   "source": [
    "class Foo:\n",
    "    # 方法bar其实是个函数，但是class中，他叫方法\n",
    "    def bar(self):\n",
    "        print \"this is a normal method of class\"\n",
    "        \n",
    "f = Foo()\n",
    "f.bar()"
   ]
  },
  {
   "cell_type": "code",
   "execution_count": 63,
   "metadata": {},
   "outputs": [
    {
     "name": "stdout",
     "output_type": "stream",
     "text": [
      "this is a normal method of class\n"
     ]
    }
   ],
   "source": [
    "Foo.bar(f)"
   ]
  },
  {
   "cell_type": "code",
   "execution_count": 64,
   "metadata": {},
   "outputs": [
    {
     "name": "stdout",
     "output_type": "stream",
     "text": [
      "Hello, Emily\n",
      "Get back to work, Steve!\n"
     ]
    }
   ],
   "source": [
    "class Employee(object):\n",
    "  def __init__(self, name):\n",
    "    self.name = name\n",
    "  def greet(self, other):\n",
    "    print \"Hello, %s\" % other.name\n",
    "\n",
    "class CEO(Employee):\n",
    "  def greet(self, other):\n",
    "    print \"Get back to work, %s!\" % other.name\n",
    "\n",
    "ceo = CEO(\"Emily\")\n",
    "emp = Employee(\"Steve\")\n",
    "emp.greet(ceo)\n",
    "# Hello, Emily\n",
    "ceo.greet(emp)\n",
    "# Get back to work, Steve!"
   ]
  },
  {
   "cell_type": "code",
   "execution_count": 65,
   "metadata": {},
   "outputs": [],
   "source": [
    "class Employee(object):\n",
    "  \"\"\"Models real-life employees!\"\"\"\n",
    "  def __init__(self, employee_name):\n",
    "    self.employee_name = employee_name\n",
    "\n",
    "  def calculate_wage(self, hours):\n",
    "    self.hours = hours\n",
    "    return hours * 20.00\n",
    "\n",
    "# Add your code below!\n",
    "class PartTimeEmployee(Employee):\n",
    "  def calculate_wage(self, hours):\n",
    "    self.hours = hours\n",
    "    return hours * 12"
   ]
  },
  {
   "cell_type": "code",
   "execution_count": 72,
   "metadata": {},
   "outputs": [],
   "source": [
    "s = PartTimeEmployee(\"duansongqi\")\n",
    "n = Employee(\"timi\")"
   ]
  },
  {
   "cell_type": "code",
   "execution_count": 73,
   "metadata": {},
   "outputs": [
    {
     "name": "stdout",
     "output_type": "stream",
     "text": [
      "duansongqi 12\n",
      "timi 20.0\n"
     ]
    }
   ],
   "source": [
    "print s.employee_name, s.calculate_wage(1)\n",
    "print n.employee_name, n.calculate_wage(1)"
   ]
  },
  {
   "cell_type": "code",
   "execution_count": 74,
   "metadata": {},
   "outputs": [
    {
     "name": "stdout",
     "output_type": "stream",
     "text": [
      "200.0\n"
     ]
    }
   ],
   "source": [
    "class Employee(object):\n",
    "  \"\"\"Models real-life employees!\"\"\"\n",
    "  def __init__(self, employee_name):\n",
    "    self.employee_name = employee_name\n",
    "\n",
    "  def calculate_wage(self, hours):\n",
    "    self.hours = hours\n",
    "    return hours * 20.00\n",
    "\n",
    "# Add your code below!\n",
    "class PartTimeEmployee(Employee):\n",
    "  def calculate_wage(self, hours):\n",
    "    self.hours = hours\n",
    "    return hours * 12\n",
    "  def full_time_wage(self, hours):\n",
    "    return super(PartTimeEmployee, self).calculate_wage(hours)\n",
    "\n",
    "milton = PartTimeEmployee(\"milton\")\n",
    "print milton.full_time_wage(10)"
   ]
  },
  {
   "cell_type": "code",
   "execution_count": 75,
   "metadata": {},
   "outputs": [
    {
     "name": "stdout",
     "output_type": "stream",
     "text": [
      "3\n",
      "True\n"
     ]
    }
   ],
   "source": [
    "class Triangle(object):\n",
    "  number_of_sides = 3\n",
    "  def __init__(self, angle1, angle2, angle3):\n",
    "    self.angle1 = angle1\n",
    "    self.angle2 = angle2\n",
    "    self.angle3 = angle3\n",
    "    \n",
    "  def check_angles(self):\n",
    "    if (self.angle1 + self.angle2 + self.angle3) == 180:\n",
    "      return True\n",
    "    else:\n",
    "      return False\n",
    "    \n",
    "my_triangle = Triangle(90, 30, 60)\n",
    "print my_triangle.number_of_sides\n",
    "print my_triangle.check_angles()"
   ]
  },
  {
   "cell_type": "code",
   "execution_count": 78,
   "metadata": {},
   "outputs": [
    {
     "name": "stdout",
     "output_type": "stream",
     "text": [
      "new\n",
      "like new\n"
     ]
    }
   ],
   "source": [
    "class Car(object):\n",
    "  condition = \"new\"\n",
    "  def __init__(self, model, color, mpg):\n",
    "    self.model = model\n",
    "    self.color = color\n",
    "    self.mpg   = mpg\n",
    "   \n",
    "  def display_car(self):\n",
    "    print \"This is a %s %s with %s MPG.\" % (self.color, self.model, str(self.mpg))\n",
    "    \n",
    "  def drive_car(self):\n",
    "    self.condition = \"used\"\n",
    "    \n",
    "class ElectricCar(Car):\n",
    "  def __init__(self, model, color, mpg, battery_type):\n",
    "    self.model = model\n",
    "    self.color = color\n",
    "    self.mpg   = mpg\n",
    "    self.battery_type = battery_type\n",
    "  def drive_car(self):\n",
    "    self.condition = \"like new\"\n",
    "\n",
    "my_car = ElectricCar(\"DeLorean\", \"silver\", 88, \"molten salt\")\n",
    "print my_car.condition\n",
    "my_car.drive_car()\n",
    "print my_car.condition"
   ]
  },
  {
   "cell_type": "code",
   "execution_count": null,
   "metadata": {},
   "outputs": [],
   "source": []
  }
 ],
 "metadata": {
  "kernelspec": {
   "display_name": "Python 2",
   "language": "python",
   "name": "python2"
  },
  "language_info": {
   "codemirror_mode": {
    "name": "ipython",
    "version": 2
   },
   "file_extension": ".py",
   "mimetype": "text/x-python",
   "name": "python",
   "nbconvert_exporter": "python",
   "pygments_lexer": "ipython2",
   "version": "2.7.15rc1"
  }
 },
 "nbformat": 4,
 "nbformat_minor": 2
}
